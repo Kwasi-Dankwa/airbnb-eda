{
  "nbformat": 4,
  "nbformat_minor": 0,
  "metadata": {
    "colab": {
      "provenance": [],
      "toc_visible": true,
      "mount_file_id": "1FegxFS40q6z40hNrAfJvh68xl8SHa_bu",
      "authorship_tag": "ABX9TyN7qdO30YEyXBJdTnrUOCU2",
      "include_colab_link": true
    },
    "kernelspec": {
      "name": "python3",
      "display_name": "Python 3"
    },
    "language_info": {
      "name": "python"
    }
  },
  "cells": [
    {
      "cell_type": "markdown",
      "metadata": {
        "id": "view-in-github",
        "colab_type": "text"
      },
      "source": [
        "<a href=\"https://colab.research.google.com/github/Kwasi-Dankwa/airbnb-eda/blob/main/AirBnB.ipynb\" target=\"_parent\"><img src=\"https://colab.research.google.com/assets/colab-badge.svg\" alt=\"Open In Colab\"/></a>"
      ]
    },
    {
      "cell_type": "code",
      "execution_count": 4,
      "metadata": {
        "colab": {
          "base_uri": "https://localhost:8080/"
        },
        "collapsed": true,
        "id": "DR72WCkEwVU4",
        "outputId": "25bb0f71-1310-401b-8f5e-20e60984b826"
      },
      "outputs": [
        {
          "output_type": "stream",
          "name": "stdout",
          "text": [
            "        id                                              NAME      host id  \\\n",
            "0  1001254                Clean & quiet apt home by the park  80014485718   \n",
            "1  1002102                             Skylit Midtown Castle  52335172823   \n",
            "2  1002403               THE VILLAGE OF HARLEM....NEW YORK !  78829239556   \n",
            "3  1002755                                               NaN  85098326012   \n",
            "4  1003689  Entire Apt: Spacious Studio/Loft by central park  92037596077   \n",
            "\n",
            "  host_identity_verified host name neighbourhood group neighbourhood  \\\n",
            "0            unconfirmed  Madaline            Brooklyn    Kensington   \n",
            "1               verified     Jenna           Manhattan       Midtown   \n",
            "2                    NaN     Elise           Manhattan        Harlem   \n",
            "3            unconfirmed     Garry            Brooklyn  Clinton Hill   \n",
            "4               verified    Lyndon           Manhattan   East Harlem   \n",
            "\n",
            "        lat      long        country  ... service fee minimum nights  \\\n",
            "0  40.64749 -73.97237  United States  ...       $193            10.0   \n",
            "1  40.75362 -73.98377  United States  ...        $28            30.0   \n",
            "2  40.80902 -73.94190  United States  ...       $124             3.0   \n",
            "3  40.68514 -73.95976  United States  ...        $74            30.0   \n",
            "4  40.79851 -73.94399  United States  ...        $41            10.0   \n",
            "\n",
            "  number of reviews last review  reviews per month review rate number  \\\n",
            "0               9.0  10/19/2021               0.21                4.0   \n",
            "1              45.0   5/21/2022               0.38                4.0   \n",
            "2               0.0         NaN                NaN                5.0   \n",
            "3             270.0    7/5/2019               4.64                4.0   \n",
            "4               9.0  11/19/2018               0.10                3.0   \n",
            "\n",
            "  calculated host listings count  availability 365  \\\n",
            "0                            6.0             286.0   \n",
            "1                            2.0             228.0   \n",
            "2                            1.0             352.0   \n",
            "3                            1.0             322.0   \n",
            "4                            1.0             289.0   \n",
            "\n",
            "                                         house_rules license  \n",
            "0  Clean up and treat the home the way you'd like...     NaN  \n",
            "1  Pet friendly but please confirm with me if the...     NaN  \n",
            "2  I encourage you to use my kitchen, cooking and...     NaN  \n",
            "3                                                NaN     NaN  \n",
            "4  Please no smoking in the house, porch or on th...     NaN  \n",
            "\n",
            "[5 rows x 26 columns]\n"
          ]
        },
        {
          "output_type": "stream",
          "name": "stderr",
          "text": [
            "<ipython-input-4-741ab79e6373>:8: DtypeWarning: Columns (25) have mixed types. Specify dtype option on import or set low_memory=False.\n",
            "  df = pd.read_csv(\"/content/Airbnb_Open_Data.csv\")\n"
          ]
        }
      ],
      "source": [
        "# import libraries\n",
        "import numpy as np\n",
        "import matplotlib.pyplot as plt\n",
        "import pandas as pd\n",
        "import seaborn as sns\n",
        "import statsmodels as sm\n",
        "\n",
        "#Load data\n",
        "df = pd.read_csv(\"/content/Airbnb_Open_Data.csv\")\n",
        "print(df.head())"
      ]
    },
    {
      "cell_type": "code",
      "source": [
        "# checking the dimensions of the airbnb dataset\n",
        "\n",
        "print(df.shape)\n",
        "print(df.columns)\n"
      ],
      "metadata": {
        "colab": {
          "base_uri": "https://localhost:8080/"
        },
        "id": "ay-C8txbymVb",
        "outputId": "49898270-da4c-4e00-c576-1a96adb2762f"
      },
      "execution_count": 6,
      "outputs": [
        {
          "output_type": "stream",
          "name": "stdout",
          "text": [
            "(102599, 26)\n",
            "26\n",
            "Index(['id', 'NAME', 'host id', 'host_identity_verified', 'host name',\n",
            "       'neighbourhood group', 'neighbourhood', 'lat', 'long', 'country',\n",
            "       'country code', 'instant_bookable', 'cancellation_policy', 'room type',\n",
            "       'Construction year', 'price', 'service fee', 'minimum nights',\n",
            "       'number of reviews', 'last review', 'reviews per month',\n",
            "       'review rate number', 'calculated host listings count',\n",
            "       'availability 365', 'house_rules', 'license'],\n",
            "      dtype='object')\n"
          ]
        }
      ]
    },
    {
      "cell_type": "markdown",
      "source": [
        "Apart from id, host id and room type most colums have missing values which must be sorted out\n"
      ],
      "metadata": {
        "id": "hce_HPNR7f9-"
      }
    },
    {
      "cell_type": "code",
      "source": [
        "# check for missing values in the columns\n",
        "print(df.isnull().sum())\n",
        "\n",
        "\n"
      ],
      "metadata": {
        "colab": {
          "base_uri": "https://localhost:8080/"
        },
        "collapsed": true,
        "id": "LnIJMPBe5s2H",
        "outputId": "d25c9846-1b73-4d12-8ac6-cc4d58541d06"
      },
      "execution_count": 7,
      "outputs": [
        {
          "output_type": "stream",
          "name": "stdout",
          "text": [
            "id                                     0\n",
            "NAME                                 250\n",
            "host id                                0\n",
            "host_identity_verified               289\n",
            "host name                            406\n",
            "neighbourhood group                   29\n",
            "neighbourhood                         16\n",
            "lat                                    8\n",
            "long                                   8\n",
            "country                              532\n",
            "country code                         131\n",
            "instant_bookable                     105\n",
            "cancellation_policy                   76\n",
            "room type                              0\n",
            "Construction year                    214\n",
            "price                                247\n",
            "service fee                          273\n",
            "minimum nights                       409\n",
            "number of reviews                    183\n",
            "last review                        15893\n",
            "reviews per month                  15879\n",
            "review rate number                   326\n",
            "calculated host listings count       319\n",
            "availability 365                     448\n",
            "house_rules                        52131\n",
            "license                           102597\n",
            "dtype: int64\n"
          ]
        }
      ]
    },
    {
      "cell_type": "markdown",
      "source": [
        "I removed country code column because every property was based in USA"
      ],
      "metadata": {
        "id": "FnJnnV5uAAxa"
      }
    },
    {
      "cell_type": "code",
      "source": [
        "# Dropping records with missing 'name' or 'host name'\n",
        "df.dropna(subset=['NAME', 'host name'], inplace=True)\n",
        "\n",
        "# Convert 'last review' to datetime and handle errors\n",
        "df['last review'] = pd.to_datetime(df['last review'], errors='coerce')\n",
        "\n",
        "# Fill missing values\n",
        "df.fillna({'reviews per month': 0, 'last review': df['last review'].min()}, inplace=True)\n",
        "\n",
        "# finding new dimensions now\n",
        "print(df.shape)\n",
        "\n"
      ],
      "metadata": {
        "colab": {
          "base_uri": "https://localhost:8080/"
        },
        "id": "E13-DvR48c9J",
        "outputId": "9aad59d5-d051-4bb3-9f19-57fc25b69c07"
      },
      "execution_count": 20,
      "outputs": [
        {
          "output_type": "stream",
          "name": "stdout",
          "text": [
            "(102193, 25)\n"
          ]
        }
      ]
    },
    {
      "cell_type": "code",
      "source": [
        "# Remove dollar signs and convert to float\n",
        "df['price'] = df['price'].replace('[\\$,]', '', regex=True).astype(float)\n",
        "df['service fee'] = df['service fee'].replace('[\\$,]', '', regex=True).astype(float)\n",
        "\n",
        "# remove duplicates in the data\n",
        "df.drop_duplicates(inplace=True)\n",
        "\n",
        "# this confirms country code has been removed and other columns Dtypes have been coverted\n",
        "print(df.info())\n",
        "\n"
      ],
      "metadata": {
        "colab": {
          "base_uri": "https://localhost:8080/"
        },
        "id": "qSss7aOK_7fn",
        "outputId": "77ae10ab-ca79-4282-bdff-e675e7b49937"
      },
      "execution_count": 22,
      "outputs": [
        {
          "output_type": "stream",
          "name": "stdout",
          "text": [
            "<class 'pandas.core.frame.DataFrame'>\n",
            "Index: 101654 entries, 0 to 102057\n",
            "Data columns (total 25 columns):\n",
            " #   Column                          Non-Null Count   Dtype         \n",
            "---  ------                          --------------   -----         \n",
            " 0   id                              101654 non-null  int64         \n",
            " 1   NAME                            101654 non-null  object        \n",
            " 2   host id                         101654 non-null  int64         \n",
            " 3   host_identity_verified          101366 non-null  object        \n",
            " 4   host name                       101654 non-null  object        \n",
            " 5   neighbourhood group             101626 non-null  object        \n",
            " 6   neighbourhood                   101638 non-null  object        \n",
            " 7   lat                             101646 non-null  float64       \n",
            " 8   long                            101646 non-null  float64       \n",
            " 9   country                         101123 non-null  object        \n",
            " 10  instant_bookable                101552 non-null  object        \n",
            " 11  cancellation_policy             101579 non-null  object        \n",
            " 12  room type                       101654 non-null  object        \n",
            " 13  Construction year               101445 non-null  float64       \n",
            " 14  price                           101412 non-null  float64       \n",
            " 15  service fee                     101386 non-null  float64       \n",
            " 16  minimum nights                  101256 non-null  float64       \n",
            " 17  number of reviews               101471 non-null  float64       \n",
            " 18  last review                     101654 non-null  datetime64[ns]\n",
            " 19  reviews per month               101654 non-null  float64       \n",
            " 20  review rate number              101342 non-null  float64       \n",
            " 21  calculated host listings count  101335 non-null  float64       \n",
            " 22  availability 365                101219 non-null  float64       \n",
            " 23  house_rules                     49970 non-null   object        \n",
            " 24  license                         2 non-null       object        \n",
            "dtypes: datetime64[ns](1), float64(11), int64(2), object(11)\n",
            "memory usage: 20.2+ MB\n",
            "None\n"
          ]
        }
      ]
    }
  ]
}