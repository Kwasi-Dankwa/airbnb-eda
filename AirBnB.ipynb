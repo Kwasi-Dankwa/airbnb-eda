{
  "nbformat": 4,
  "nbformat_minor": 0,
  "metadata": {
    "colab": {
      "provenance": [],
      "mount_file_id": "1FegxFS40q6z40hNrAfJvh68xl8SHa_bu",
      "authorship_tag": "ABX9TyO0HVmL1t31P7PsB4Zxu1Ow",
      "include_colab_link": true
    },
    "kernelspec": {
      "name": "python3",
      "display_name": "Python 3"
    },
    "language_info": {
      "name": "python"
    }
  },
  "cells": [
    {
      "cell_type": "markdown",
      "metadata": {
        "id": "view-in-github",
        "colab_type": "text"
      },
      "source": [
        "<a href=\"https://colab.research.google.com/github/Kwasi-Dankwa/airbnb-eda/blob/main/AirBnB.ipynb\" target=\"_parent\"><img src=\"https://colab.research.google.com/assets/colab-badge.svg\" alt=\"Open In Colab\"/></a>"
      ]
    },
    {
      "cell_type": "markdown",
      "source": [
        "**Cleaning Process**"
      ],
      "metadata": {
        "id": "_pFT7zITagi1"
      }
    },
    {
      "cell_type": "code",
      "execution_count": 3,
      "metadata": {
        "colab": {
          "base_uri": "https://localhost:8080/"
        },
        "collapsed": true,
        "id": "DR72WCkEwVU4",
        "outputId": "3a3da53b-fd83-4745-feb3-9de67ffc604a"
      },
      "outputs": [
        {
          "output_type": "stream",
          "name": "stdout",
          "text": [
            "        id                                              NAME      host id  \\\n",
            "0  1001254                Clean & quiet apt home by the park  80014485718   \n",
            "1  1002102                             Skylit Midtown Castle  52335172823   \n",
            "2  1002403               THE VILLAGE OF HARLEM....NEW YORK !  78829239556   \n",
            "3  1002755                                               NaN  85098326012   \n",
            "4  1003689  Entire Apt: Spacious Studio/Loft by central park  92037596077   \n",
            "\n",
            "  host_identity_verified host name neighbourhood group neighbourhood  \\\n",
            "0            unconfirmed  Madaline            Brooklyn    Kensington   \n",
            "1               verified     Jenna           Manhattan       Midtown   \n",
            "2                    NaN     Elise           Manhattan        Harlem   \n",
            "3            unconfirmed     Garry            Brooklyn  Clinton Hill   \n",
            "4               verified    Lyndon           Manhattan   East Harlem   \n",
            "\n",
            "        lat      long        country  ... service fee minimum nights  \\\n",
            "0  40.64749 -73.97237  United States  ...       $193            10.0   \n",
            "1  40.75362 -73.98377  United States  ...        $28            30.0   \n",
            "2  40.80902 -73.94190  United States  ...       $124             3.0   \n",
            "3  40.68514 -73.95976  United States  ...        $74            30.0   \n",
            "4  40.79851 -73.94399  United States  ...        $41            10.0   \n",
            "\n",
            "  number of reviews last review  reviews per month review rate number  \\\n",
            "0               9.0  10/19/2021               0.21                4.0   \n",
            "1              45.0   5/21/2022               0.38                4.0   \n",
            "2               0.0         NaN                NaN                5.0   \n",
            "3             270.0    7/5/2019               4.64                4.0   \n",
            "4               9.0  11/19/2018               0.10                3.0   \n",
            "\n",
            "  calculated host listings count  availability 365  \\\n",
            "0                            6.0             286.0   \n",
            "1                            2.0             228.0   \n",
            "2                            1.0             352.0   \n",
            "3                            1.0             322.0   \n",
            "4                            1.0             289.0   \n",
            "\n",
            "                                         house_rules license  \n",
            "0  Clean up and treat the home the way you'd like...     NaN  \n",
            "1  Pet friendly but please confirm with me if the...     NaN  \n",
            "2  I encourage you to use my kitchen, cooking and...     NaN  \n",
            "3                                                NaN     NaN  \n",
            "4  Please no smoking in the house, porch or on th...     NaN  \n",
            "\n",
            "[5 rows x 26 columns]\n"
          ]
        },
        {
          "output_type": "stream",
          "name": "stderr",
          "text": [
            "<ipython-input-3-ce94ab2ceecf>:9: DtypeWarning: Columns (25) have mixed types. Specify dtype option on import or set low_memory=False.\n",
            "  df = pd.read_csv(\"/content/Airbnb_Open_Data.csv\")\n"
          ]
        }
      ],
      "source": [
        "# import libraries\n",
        "import numpy as np\n",
        "import matplotlib.pyplot as plt\n",
        "import pandas as pd\n",
        "import seaborn as sns\n",
        "import statsmodels as sm\n",
        "\n",
        "#Load data\n",
        "df = pd.read_csv(\"/content/Airbnb_Open_Data.csv\")\n",
        "print(df.head())"
      ]
    },
    {
      "cell_type": "code",
      "source": [
        "# checking the dimensions of the airbnb dataset\n",
        "\n",
        "print(df.shape)\n",
        "print(df.columns)\n"
      ],
      "metadata": {
        "colab": {
          "base_uri": "https://localhost:8080/"
        },
        "id": "ay-C8txbymVb",
        "outputId": "7b84acc9-d0c4-455e-ff07-2711be6fcd73"
      },
      "execution_count": 7,
      "outputs": [
        {
          "output_type": "stream",
          "name": "stdout",
          "text": [
            "(102599, 26)\n",
            "Index(['id', 'NAME', 'host id', 'host_identity_verified', 'host name',\n",
            "       'neighbourhood group', 'neighbourhood', 'lat', 'long', 'country',\n",
            "       'country code', 'instant_bookable', 'cancellation_policy', 'room type',\n",
            "       'Construction year', 'price', 'service fee', 'minimum nights',\n",
            "       'number of reviews', 'last review', 'reviews per month',\n",
            "       'review rate number', 'calculated host listings count',\n",
            "       'availability 365', 'house_rules', 'license'],\n",
            "      dtype='object')\n"
          ]
        }
      ]
    },
    {
      "cell_type": "markdown",
      "source": [
        "Apart from id, host id and room type most colums have missing values which must be sorted out\n"
      ],
      "metadata": {
        "id": "hce_HPNR7f9-"
      }
    },
    {
      "cell_type": "code",
      "source": [
        "# check for missing values in the columns\n",
        "print(df.isnull().sum())\n",
        "\n",
        "\n"
      ],
      "metadata": {
        "colab": {
          "base_uri": "https://localhost:8080/"
        },
        "collapsed": true,
        "id": "LnIJMPBe5s2H",
        "outputId": "189c1272-bf23-407c-8234-ab6e5c7ace98"
      },
      "execution_count": 8,
      "outputs": [
        {
          "output_type": "stream",
          "name": "stdout",
          "text": [
            "id                                     0\n",
            "NAME                                 250\n",
            "host id                                0\n",
            "host_identity_verified               289\n",
            "host name                            406\n",
            "neighbourhood group                   29\n",
            "neighbourhood                         16\n",
            "lat                                    8\n",
            "long                                   8\n",
            "country                              532\n",
            "country code                         131\n",
            "instant_bookable                     105\n",
            "cancellation_policy                   76\n",
            "room type                              0\n",
            "Construction year                    214\n",
            "price                                247\n",
            "service fee                          273\n",
            "minimum nights                       409\n",
            "number of reviews                    183\n",
            "last review                        15893\n",
            "reviews per month                  15879\n",
            "review rate number                   326\n",
            "calculated host listings count       319\n",
            "availability 365                     448\n",
            "house_rules                        52131\n",
            "license                           102597\n",
            "dtype: int64\n"
          ]
        }
      ]
    },
    {
      "cell_type": "markdown",
      "source": [
        "I removed country code column because every property was based in USA"
      ],
      "metadata": {
        "id": "FnJnnV5uAAxa"
      }
    },
    {
      "cell_type": "code",
      "source": [
        "# Dropping records with missing 'name' or 'host name'\n",
        "df.dropna(subset=['NAME', 'host name'], inplace=True)\n",
        "\n",
        "# Convert 'last review' to datetime and handle errors\n",
        "df['last review'] = pd.to_datetime(df['last review'], errors='coerce')\n",
        "\n",
        "# Fill missing values\n",
        "df.fillna({'reviews per month': 0, 'last review': df['last review'].min()}, inplace=True)\n",
        "\n",
        "# finding new dimensions now\n",
        "print(df.shape)\n",
        "\n"
      ],
      "metadata": {
        "colab": {
          "base_uri": "https://localhost:8080/"
        },
        "id": "E13-DvR48c9J",
        "outputId": "077bd90e-ec8e-49ac-9696-1a30f81a7e47"
      },
      "execution_count": 9,
      "outputs": [
        {
          "output_type": "stream",
          "name": "stdout",
          "text": [
            "(101949, 26)\n"
          ]
        }
      ]
    },
    {
      "cell_type": "code",
      "source": [
        "# Remove dollar signs and convert to float\n",
        "df['price'] = df['price'].replace('[\\$,]', '', regex=True).astype(float)\n",
        "df['service fee'] = df['service fee'].replace('[\\$,]', '', regex=True).astype(float)\n",
        "\n",
        "df.drop('country code', axis=1, inplace=True)\n",
        "\n",
        "# remove duplicates in the data\n",
        "df.drop_duplicates(inplace=True)\n",
        "\n",
        "# this confirms country code has been removed and other columns Dtypes have been coverted\n",
        "print(df.info())\n",
        "\n",
        "\n",
        "\n"
      ],
      "metadata": {
        "colab": {
          "base_uri": "https://localhost:8080/"
        },
        "id": "qSss7aOK_7fn",
        "outputId": "fd962246-07cd-4609-9ecd-8b7b07e55f5f"
      },
      "execution_count": 16,
      "outputs": [
        {
          "output_type": "stream",
          "name": "stdout",
          "text": [
            "<class 'pandas.core.frame.DataFrame'>\n",
            "Index: 101410 entries, 0 to 102057\n",
            "Data columns (total 25 columns):\n",
            " #   Column                          Non-Null Count   Dtype         \n",
            "---  ------                          --------------   -----         \n",
            " 0   id                              101410 non-null  int64         \n",
            " 1   NAME                            101410 non-null  object        \n",
            " 2   host id                         101410 non-null  int64         \n",
            " 3   host_identity_verified          101134 non-null  object        \n",
            " 4   host name                       101410 non-null  object        \n",
            " 5   neighbourhood group             101384 non-null  object        \n",
            " 6   neighbourhood                   101394 non-null  object        \n",
            " 7   lat                             101402 non-null  float64       \n",
            " 8   long                            101402 non-null  float64       \n",
            " 9   country                         100884 non-null  object        \n",
            " 10  instant_bookable                101314 non-null  object        \n",
            " 11  cancellation_policy             101340 non-null  object        \n",
            " 12  room type                       101410 non-null  object        \n",
            " 13  Construction year               101210 non-null  float64       \n",
            " 14  price                           101171 non-null  float64       \n",
            " 15  service fee                     101142 non-null  float64       \n",
            " 16  minimum nights                  101016 non-null  float64       \n",
            " 17  number of reviews               101228 non-null  float64       \n",
            " 18  last review                     101410 non-null  datetime64[ns]\n",
            " 19  reviews per month               101410 non-null  float64       \n",
            " 20  review rate number              101103 non-null  float64       \n",
            " 21  calculated host listings count  101092 non-null  float64       \n",
            " 22  availability 365                100990 non-null  float64       \n",
            " 23  house_rules                     49831 non-null   object        \n",
            " 24  license                         2 non-null       object        \n",
            "dtypes: datetime64[ns](1), float64(11), int64(2), object(11)\n",
            "memory usage: 20.1+ MB\n",
            "None\n"
          ]
        }
      ]
    },
    {
      "cell_type": "code",
      "source": [
        "# Drop rows where 'NAME' is \"Unknown\" for simplicity\n",
        "df = df[df['NAME'] != \"Unknown\"]\n"
      ],
      "metadata": {
        "id": "Cj2uawCcB5E8"
      },
      "execution_count": 17,
      "outputs": []
    },
    {
      "cell_type": "code",
      "source": [
        "# Downloading cleaned data\n",
        "\n",
        "from google.colab import files\n",
        "\n",
        "# Save the cleaned DataFrame to a new CSV file.\n",
        "df.to_csv('cleaned_airbnb_data.csv', index=False)  # index=False prevents writing row indices\n",
        "\n",
        "# Download the file.\n",
        "files.download('cleaned_airbnb_data.csv')\n"
      ],
      "metadata": {
        "colab": {
          "base_uri": "https://localhost:8080/",
          "height": 17
        },
        "id": "yVGcMwNeaskx",
        "outputId": "cd0955c4-4e69-4c1c-abc0-2bc988a44a99"
      },
      "execution_count": 18,
      "outputs": [
        {
          "output_type": "display_data",
          "data": {
            "text/plain": [
              "<IPython.core.display.Javascript object>"
            ],
            "application/javascript": [
              "\n",
              "    async function download(id, filename, size) {\n",
              "      if (!google.colab.kernel.accessAllowed) {\n",
              "        return;\n",
              "      }\n",
              "      const div = document.createElement('div');\n",
              "      const label = document.createElement('label');\n",
              "      label.textContent = `Downloading \"${filename}\": `;\n",
              "      div.appendChild(label);\n",
              "      const progress = document.createElement('progress');\n",
              "      progress.max = size;\n",
              "      div.appendChild(progress);\n",
              "      document.body.appendChild(div);\n",
              "\n",
              "      const buffers = [];\n",
              "      let downloaded = 0;\n",
              "\n",
              "      const channel = await google.colab.kernel.comms.open(id);\n",
              "      // Send a message to notify the kernel that we're ready.\n",
              "      channel.send({})\n",
              "\n",
              "      for await (const message of channel.messages) {\n",
              "        // Send a message to notify the kernel that we're ready.\n",
              "        channel.send({})\n",
              "        if (message.buffers) {\n",
              "          for (const buffer of message.buffers) {\n",
              "            buffers.push(buffer);\n",
              "            downloaded += buffer.byteLength;\n",
              "            progress.value = downloaded;\n",
              "          }\n",
              "        }\n",
              "      }\n",
              "      const blob = new Blob(buffers, {type: 'application/binary'});\n",
              "      const a = document.createElement('a');\n",
              "      a.href = window.URL.createObjectURL(blob);\n",
              "      a.download = filename;\n",
              "      div.appendChild(a);\n",
              "      a.click();\n",
              "      div.remove();\n",
              "    }\n",
              "  "
            ]
          },
          "metadata": {}
        },
        {
          "output_type": "display_data",
          "data": {
            "text/plain": [
              "<IPython.core.display.Javascript object>"
            ],
            "application/javascript": [
              "download(\"download_398acc8e-b764-4a30-980e-cf58c9370fc4\", \"cleaned_airbnb_data.csv\", 36566712)"
            ]
          },
          "metadata": {}
        }
      ]
    },
    {
      "cell_type": "markdown",
      "source": [
        "**Visualization**"
      ],
      "metadata": {
        "id": "evg3l1EnaXDj"
      }
    },
    {
      "cell_type": "code",
      "source": [
        "plt.figure(figsize=(10, 8))\n",
        "sns.histplot(df['price'], bins=30, kde=True)\n",
        "plt.title('Listing Prices Distribution')\n",
        "plt.xlabel('Price ($)')\n",
        "plt.ylabel('Frequency')\n",
        "plt.show()"
      ],
      "metadata": {
        "id": "6SW_3cW9U76H",
        "colab": {
          "base_uri": "https://localhost:8080/",
          "height": 718
        },
        "outputId": "2a0cf790-3e2f-43ae-c5db-b5b22908ba51"
      },
      "execution_count": 13,
      "outputs": [
        {
          "output_type": "display_data",
          "data": {
            "text/plain": [
              "<Figure size 1000x800 with 1 Axes>"
            ],
            "image/png": "[encoded data removed]"
          },
          "metadata": {}
        }
      ]
    },
    {
      "cell_type": "markdown",
      "source": [
        "In summary, this graph indicates a listing price distribution where prices within the $0 to $1200 range are fairly evenly represented in the dataset. While there are some minor variations in frequency across different price points, there isn't a strong central price or a highly skewed distribution. This could suggest a diverse marketplace with listings available across a broad range of prices."
      ],
      "metadata": {
        "id": "cPDTcZZNaVVU"
      }
    },
    {
      "cell_type": "code",
      "source": [],
      "metadata": {
        "id": "KKKfiu9uaeiW"
      },
      "execution_count": null,
      "outputs": []
    }
  ]
}